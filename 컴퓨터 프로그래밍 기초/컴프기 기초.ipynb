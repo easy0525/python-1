{
 "cells": [
  {
   "cell_type": "code",
   "execution_count": 1,
   "id": "4b5a8ad5",
   "metadata": {},
   "outputs": [
    {
     "data": {
      "text/plain": [
       "1"
      ]
     },
     "execution_count": 1,
     "metadata": {},
     "output_type": "execute_result"
    }
   ],
   "source": [
    "a=1\n",
    "a"
   ]
  },
  {
   "cell_type": "code",
   "execution_count": 31,
   "id": "d581148b",
   "metadata": {},
   "outputs": [
    {
     "name": "stdout",
     "output_type": "stream",
     "text": [
      "1\n"
     ]
    }
   ],
   "source": [
    "print(a)"
   ]
  },
  {
   "attachments": {},
   "cell_type": "markdown",
   "id": "bad30d9c",
   "metadata": {},
   "source": [
    "# 1.test program\n",
    "---"
   ]
  },
  {
   "cell_type": "code",
   "execution_count": 30,
   "id": "6db443ff",
   "metadata": {},
   "outputs": [
    {
     "name": "stdout",
     "output_type": "stream",
     "text": [
      "123\n"
     ]
    }
   ],
   "source": [
    "# iphone\n",
    "def hello(test):\n",
    "    b=test\n",
    "    print(b)\n",
    "\n",
    "hello(123)"
   ]
  },
  {
   "cell_type": "code",
   "execution_count": 15,
   "id": "c3546c5e",
   "metadata": {},
   "outputs": [
    {
     "name": "stdout",
     "output_type": "stream",
     "text": [
      "appa\n"
     ]
    }
   ],
   "source": [
    "hello('appa')"
   ]
  },
  {
   "cell_type": "code",
   "execution_count": 32,
   "id": "6adf33c8",
   "metadata": {},
   "outputs": [
    {
     "name": "stdout",
     "output_type": "stream",
     "text": [
      "123\n"
     ]
    }
   ],
   "source": [
    "hello(123)"
   ]
  },
  {
   "attachments": {},
   "cell_type": "markdown",
   "id": "5e0601b2",
   "metadata": {},
   "source": [
    "## 2.Hello Program"
   ]
  },
  {
   "cell_type": "code",
   "execution_count": 17,
   "id": "be371372",
   "metadata": {},
   "outputs": [],
   "source": [
    "def test():\n",
    "    print('test')"
   ]
  },
  {
   "cell_type": "code",
   "execution_count": 19,
   "id": "c18bbf03",
   "metadata": {},
   "outputs": [
    {
     "name": "stdout",
     "output_type": "stream",
     "text": [
      "test\n"
     ]
    }
   ],
   "source": [
    "test()"
   ]
  },
  {
   "cell_type": "code",
   "execution_count": 26,
   "id": "fa56a02f",
   "metadata": {},
   "outputs": [],
   "source": [
    "def test1(args1=1,args2=2,args3=3):\n",
    "     print(args3)\n",
    "    "
   ]
  },
  {
   "cell_type": "code",
   "execution_count": 29,
   "id": "48940ea2",
   "metadata": {},
   "outputs": [
    {
     "name": "stdout",
     "output_type": "stream",
     "text": [
      "3\n"
     ]
    }
   ],
   "source": [
    "test1(4)"
   ]
  },
  {
   "attachments": {},
   "cell_type": "markdown",
   "id": "8cc9af29",
   "metadata": {},
   "source": [
    "### 3. programming\n",
    "---\n",
    "### - tytyt"
   ]
  },
  {
   "attachments": {},
   "cell_type": "markdown",
   "id": "6dbe2e2a",
   "metadata": {},
   "source": [
    "#### <span style = 'color:red'>4. banban</span>iuiuuui"
   ]
  },
  {
   "cell_type": "code",
   "execution_count": 1,
   "id": "fb76a370",
   "metadata": {},
   "outputs": [],
   "source": [
    "nVal = '10'\n",
    "fVal = 3.14"
   ]
  },
  {
   "cell_type": "code",
   "execution_count": 2,
   "id": "6f3144c3",
   "metadata": {},
   "outputs": [
    {
     "name": "stdout",
     "output_type": "stream",
     "text": [
      "=====> 값 형식 자료형 <=====\n",
      "10, <class 'str'>\n",
      "3.14, <class 'float'>\n"
     ]
    }
   ],
   "source": [
    "print(\"=====> 값 형식 자료형 <=====\")\n",
    "print(\"{0}, {1}\".format(nVal, type(nVal)))\n",
    "print(\"{0}, {1}\".format(fVal, type(fVal)))\n",
    "#print(\"{0}, {1}\".format(bIsTrue, type(bIsTrue)))"
   ]
  },
  {
   "cell_type": "code",
   "execution_count": 51,
   "id": "3b0f4a30",
   "metadata": {},
   "outputs": [
    {
     "name": "stdout",
     "output_type": "stream",
     "text": [
      "test:{0} 10 hello\n"
     ]
    }
   ],
   "source": [
    "print('test:{0}',nVal,'hello')"
   ]
  },
  {
   "cell_type": "code",
   "execution_count": 49,
   "id": "fdb8e89a",
   "metadata": {},
   "outputs": [
    {
     "name": "stdout",
     "output_type": "stream",
     "text": [
      "test aaaaaa\n"
     ]
    }
   ],
   "source": [
    "print('test {1}{1}'.format(nVal,'aaa'))"
   ]
  },
  {
   "cell_type": "code",
   "execution_count": 56,
   "id": "a664acdc",
   "metadata": {},
   "outputs": [
    {
     "data": {
      "text/plain": [
       "str"
      ]
     },
     "execution_count": 56,
     "metadata": {},
     "output_type": "execute_result"
    }
   ],
   "source": [
    "type(nVal)"
   ]
  },
  {
   "cell_type": "code",
   "execution_count": 78,
   "id": "ff41379c",
   "metadata": {},
   "outputs": [
    {
     "name": "stdout",
     "output_type": "stream",
     "text": [
      "\n",
      "=====> 참조 형식 자료형 <=====\n",
      "Hello, World!, <class 'str'>\n",
      "[1, 2, 3, 4, '5'], <class 'list'>\n",
      "{'Key_01': 1, 'Key_02': 2, 'Key_03': 3, 'Key_04': 4, 'Key_05': 5}, <class 'dict'>\n",
      "(1, 2, '3', 4, 5), <class 'tuple'>\n"
     ]
    }
   ],
   "source": [
    "oStr = \"Hello, World!\"\n",
    "oList = [1, 2, 3, 4, '5']\n",
    "oDict = {\"Key_01\": 1, \"Key_02\": 2, \"Key_03\": 3, \"Key_04\": 4, \"Key_05\": 5}\n",
    "oTuple = (1, 2, '3', 4, 5)\n",
    "\n",
    "print(\"\\n=====> 참조 형식 자료형 <=====\")\n",
    "print(\"{0}, {1}\".format(oStr, type(oStr)))\n",
    "print(\"{0}, {1}\".format(oList, type(oList)))\n",
    "print(\"{0}, {1}\".format(oDict, type(oDict)))\n",
    "print(\"{0}, {1}\".format(oTuple, type(oTuple)))\n"
   ]
  },
  {
   "cell_type": "code",
   "execution_count": 59,
   "id": "0d9e4c13",
   "metadata": {},
   "outputs": [
    {
     "data": {
      "text/plain": [
       "[1, 2, 3, 4, 5]"
      ]
     },
     "execution_count": 59,
     "metadata": {},
     "output_type": "execute_result"
    }
   ],
   "source": [
    "oList"
   ]
  },
  {
   "cell_type": "code",
   "execution_count": 60,
   "id": "e80fb4d0",
   "metadata": {},
   "outputs": [
    {
     "data": {
      "text/plain": [
       "3"
      ]
     },
     "execution_count": 60,
     "metadata": {},
     "output_type": "execute_result"
    }
   ],
   "source": [
    "oList[2]"
   ]
  },
  {
   "cell_type": "code",
   "execution_count": 77,
   "id": "8da9eb50",
   "metadata": {},
   "outputs": [
    {
     "data": {
      "text/plain": [
       "4"
      ]
     },
     "execution_count": 77,
     "metadata": {},
     "output_type": "execute_result"
    }
   ],
   "source": [
    "oList[3]"
   ]
  },
  {
   "cell_type": "code",
   "execution_count": 70,
   "id": "2b2b0c38",
   "metadata": {},
   "outputs": [
    {
     "data": {
      "text/plain": [
       "[2, 5]"
      ]
     },
     "execution_count": 70,
     "metadata": {},
     "output_type": "execute_result"
    }
   ],
   "source": [
    "oList[1:5:3]"
   ]
  },
  {
   "cell_type": "code",
   "execution_count": 80,
   "id": "d931894e",
   "metadata": {},
   "outputs": [
    {
     "data": {
      "text/plain": [
       "'3'"
      ]
     },
     "execution_count": 80,
     "metadata": {},
     "output_type": "execute_result"
    }
   ],
   "source": [
    "oTuple[2]"
   ]
  },
  {
   "cell_type": "code",
   "execution_count": 81,
   "id": "2541f4fb",
   "metadata": {},
   "outputs": [
    {
     "data": {
      "text/plain": [
       "[1, 2, 3, 4, '5', '7']"
      ]
     },
     "execution_count": 81,
     "metadata": {},
     "output_type": "execute_result"
    }
   ],
   "source": [
    "oList.append('7')\n",
    "oList"
   ]
  },
  {
   "cell_type": "code",
   "execution_count": 82,
   "id": "fd037fe3",
   "metadata": {},
   "outputs": [
    {
     "ename": "AttributeError",
     "evalue": "'tuple' object has no attribute 'append'",
     "output_type": "error",
     "traceback": [
      "\u001b[1;31m---------------------------------------------------------------------------\u001b[0m",
      "\u001b[1;31mAttributeError\u001b[0m                            Traceback (most recent call last)",
      "Cell \u001b[1;32mIn[82], line 1\u001b[0m\n\u001b[1;32m----> 1\u001b[0m \u001b[43moTuple\u001b[49m\u001b[38;5;241;43m.\u001b[39;49m\u001b[43mappend\u001b[49m(\u001b[38;5;241m5\u001b[39m)\n",
      "\u001b[1;31mAttributeError\u001b[0m: 'tuple' object has no attribute 'append'"
     ]
    }
   ],
   "source": [
    "oTuple.append(5)"
   ]
  },
  {
   "cell_type": "code",
   "execution_count": 84,
   "id": "5ef9433f",
   "metadata": {},
   "outputs": [],
   "source": [
    "oDict = {\"Key_01\": 1, \"Key_02\": 2, \"Key_03\": 3, \"Key_04\": 4, \"Key_05\": 5}"
   ]
  },
  {
   "cell_type": "code",
   "execution_count": 87,
   "id": "4c23bacd",
   "metadata": {},
   "outputs": [
    {
     "data": {
      "text/plain": [
       "2"
      ]
     },
     "execution_count": 87,
     "metadata": {},
     "output_type": "execute_result"
    }
   ],
   "source": [
    "oDict['Key_02']"
   ]
  },
  {
   "cell_type": "code",
   "execution_count": 114,
   "id": "8044225e",
   "metadata": {},
   "outputs": [
    {
     "name": "stdout",
     "output_type": "stream",
     "text": [
      "\n",
      "정수 (2 개) 입력 : lee*ji*3\n"
     ]
    }
   ],
   "source": [
    "oTokenList = input(\"\\n정수 (2 개) 입력 : \").split('*')\n",
    "# oTokenList = input(\"\\n정수 (2 개) 입력 : \").split()"
   ]
  },
  {
   "cell_type": "code",
   "execution_count": 115,
   "id": "c9828398",
   "metadata": {},
   "outputs": [
    {
     "data": {
      "text/plain": [
       "['lee', 'ji', '3']"
      ]
     },
     "execution_count": 115,
     "metadata": {},
     "output_type": "execute_result"
    }
   ],
   "source": [
    "oTokenList"
   ]
  },
  {
   "cell_type": "code",
   "execution_count": 91,
   "id": "6c21659d",
   "metadata": {},
   "outputs": [
    {
     "name": "stdout",
     "output_type": "stream",
     "text": [
      "\n",
      "정수 (2 개) 입력 : 2 1\n"
     ]
    },
    {
     "data": {
      "text/plain": [
       "'2 1'"
      ]
     },
     "execution_count": 91,
     "metadata": {},
     "output_type": "execute_result"
    }
   ],
   "source": [
    "input(\"\\n정수 (2 개) 입력 : \")"
   ]
  },
  {
   "cell_type": "code",
   "execution_count": 101,
   "id": "6ee67202",
   "metadata": {},
   "outputs": [
    {
     "data": {
      "text/plain": [
       "'20'"
      ]
     },
     "execution_count": 101,
     "metadata": {},
     "output_type": "execute_result"
    }
   ],
   "source": [
    "oTokenList[1]"
   ]
  },
  {
   "cell_type": "code",
   "execution_count": 111,
   "id": "9ec78721",
   "metadata": {},
   "outputs": [
    {
     "name": "stdout",
     "output_type": "stream",
     "text": [
      "test\n"
     ]
    }
   ],
   "source": [
    "test()"
   ]
  },
  {
   "cell_type": "code",
   "execution_count": 118,
   "id": "6797180e",
   "metadata": {},
   "outputs": [],
   "source": [
    "oTokenList.append('yyy')"
   ]
  },
  {
   "cell_type": "code",
   "execution_count": 120,
   "id": "945b4b0a",
   "metadata": {},
   "outputs": [
    {
     "name": "stdout",
     "output_type": "stream",
     "text": [
      "ddd\n"
     ]
    },
    {
     "data": {
      "text/plain": [
       "['ddd']"
      ]
     },
     "execution_count": 120,
     "metadata": {},
     "output_type": "execute_result"
    }
   ],
   "source": [
    "input().split()"
   ]
  },
  {
   "cell_type": "code",
   "execution_count": null,
   "id": "4455a4db",
   "metadata": {},
   "outputs": [],
   "source": []
  },
  {
   "cell_type": "code",
   "execution_count": 123,
   "id": "9b5e98d5",
   "metadata": {},
   "outputs": [],
   "source": [
    "oList = [1, 2, 3, 4, '5']"
   ]
  },
  {
   "cell_type": "code",
   "execution_count": 124,
   "id": "cfa5a5fe",
   "metadata": {},
   "outputs": [
    {
     "data": {
      "text/plain": [
       "[1, 2, 3, 4, '5']"
      ]
     },
     "execution_count": 124,
     "metadata": {},
     "output_type": "execute_result"
    }
   ],
   "source": [
    "oList"
   ]
  },
  {
   "cell_type": "code",
   "execution_count": 125,
   "id": "c49b5828",
   "metadata": {},
   "outputs": [
    {
     "name": "stdout",
     "output_type": "stream",
     "text": [
      "1\n",
      "2\n",
      "3\n",
      "4\n",
      "5\n"
     ]
    }
   ],
   "source": [
    "for i in oList:\n",
    "    print(i)"
   ]
  },
  {
   "cell_type": "code",
   "execution_count": null,
   "id": "64cc7d83",
   "metadata": {},
   "outputs": [],
   "source": [
    "for idx in range(1:10): "
   ]
  },
  {
   "cell_type": "code",
   "execution_count": null,
   "id": "c7115153",
   "metadata": {},
   "outputs": [],
   "source": []
  },
  {
   "cell_type": "code",
   "execution_count": 131,
   "id": "b90d30a9",
   "metadata": {},
   "outputs": [],
   "source": [
    "aaa = range(1,10)"
   ]
  },
  {
   "cell_type": "code",
   "execution_count": 132,
   "id": "d73d967a",
   "metadata": {},
   "outputs": [
    {
     "data": {
      "text/plain": [
       "range(1, 10)"
      ]
     },
     "execution_count": 132,
     "metadata": {},
     "output_type": "execute_result"
    }
   ],
   "source": [
    "aaa"
   ]
  },
  {
   "cell_type": "code",
   "execution_count": 133,
   "id": "20c57f25",
   "metadata": {},
   "outputs": [
    {
     "name": "stdout",
     "output_type": "stream",
     "text": [
      "1\n",
      "2\n",
      "3\n",
      "4\n",
      "5\n",
      "6\n",
      "7\n",
      "8\n",
      "9\n"
     ]
    }
   ],
   "source": [
    "for i in aaa:\n",
    "    print(i)"
   ]
  },
  {
   "cell_type": "code",
   "execution_count": 145,
   "id": "1692c33c",
   "metadata": {},
   "outputs": [
    {
     "name": "stdout",
     "output_type": "stream",
     "text": [
      "9\n",
      "18\n",
      "27\n",
      "36\n",
      "45\n",
      "54\n",
      "63\n",
      "72\n",
      "81\n"
     ]
    }
   ],
   "source": [
    "for idx in range(1,10):\n",
    "    print(idx * 9)"
   ]
  },
  {
   "cell_type": "code",
   "execution_count": null,
   "id": "6d0661cb",
   "metadata": {},
   "outputs": [],
   "source": []
  },
  {
   "cell_type": "code",
   "execution_count": 137,
   "id": "df89ac2a",
   "metadata": {},
   "outputs": [
    {
     "data": {
      "text/plain": [
       "[1, 2, 3, 4, '5']"
      ]
     },
     "execution_count": 137,
     "metadata": {},
     "output_type": "execute_result"
    }
   ],
   "source": [
    "oList"
   ]
  },
  {
   "cell_type": "code",
   "execution_count": null,
   "id": "83677903",
   "metadata": {},
   "outputs": [],
   "source": []
  },
  {
   "cell_type": "code",
   "execution_count": 138,
   "id": "331b05a0",
   "metadata": {},
   "outputs": [
    {
     "data": {
      "text/plain": [
       "5"
      ]
     },
     "execution_count": 138,
     "metadata": {},
     "output_type": "execute_result"
    }
   ],
   "source": [
    "len(oList)"
   ]
  }
 ],
 "metadata": {
  "kernelspec": {
   "display_name": "Python 3 (ipykernel)",
   "language": "python",
   "name": "python3"
  },
  "language_info": {
   "codemirror_mode": {
    "name": "ipython",
    "version": 3
   },
   "file_extension": ".py",
   "mimetype": "text/x-python",
   "name": "python",
   "nbconvert_exporter": "python",
   "pygments_lexer": "ipython3",
   "version": "3.10.9"
  }
 },
 "nbformat": 4,
 "nbformat_minor": 5
}
