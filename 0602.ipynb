{
 "cells": [
  {
   "cell_type": "code",
   "execution_count": 1,
   "id": "53685314",
   "metadata": {},
   "outputs": [
    {
     "name": "stdout",
     "output_type": "stream",
     "text": [
      "6월입니다.\n"
     ]
    }
   ],
   "source": [
    "print(\"6월입니다.\")"
   ]
  },
  {
   "cell_type": "code",
   "execution_count": 2,
   "id": "af44f263",
   "metadata": {},
   "outputs": [
    {
     "name": "stdout",
     "output_type": "stream",
     "text": [
      "[80, 59, 92, 30, 24, 95, 65, 84, 55, 12]\n",
      "12\n",
      "95\n"
     ]
    }
   ],
   "source": [
    "import random as rd\n",
    "random_list = []\n",
    "\n",
    "for i in range(10):\n",
    "   random_list.append(rd.randint(1,99))\n",
    "\n",
    "print(random_list)\n",
    "\n",
    "import numpy as np\n",
    "\n",
    "min_value = np.min(random_list)\n",
    "max_value = np.max(random_list)\n",
    "\n",
    "print(min_value)\n",
    "print(max_value)"
   ]
  },
  {
   "cell_type": "code",
   "execution_count": null,
   "id": "9a8319bd",
   "metadata": {},
   "outputs": [],
   "source": []
  }
 ],
 "metadata": {
  "kernelspec": {
   "display_name": "Python 3 (ipykernel)",
   "language": "python",
   "name": "python3"
  },
  "language_info": {
   "codemirror_mode": {
    "name": "ipython",
    "version": 3
   },
   "file_extension": ".py",
   "mimetype": "text/x-python",
   "name": "python",
   "nbconvert_exporter": "python",
   "pygments_lexer": "ipython3",
   "version": "3.9.13"
  }
 },
 "nbformat": 4,
 "nbformat_minor": 5
}
